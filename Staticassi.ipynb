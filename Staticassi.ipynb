{
 "cells": [
  {
   "cell_type": "markdown",
   "id": "122f0a03-cb62-4b1f-98e4-2bd6027785da",
   "metadata": {},
   "source": [
    "Q1. ans\n",
    "\n",
    "\n",
    "\n",
    "Static is the science of collecting ,organizing and analyzing the data"
   ]
  },
  {
   "cell_type": "code",
   "execution_count": null,
   "id": "3cbef3ec-f913-43af-ac35-216ceb19e2ce",
   "metadata": {},
   "outputs": [],
   "source": []
  },
  {
   "cell_type": "markdown",
   "id": "c5c3bcc4-d4a3-45c1-8a31-ec0ac6a66955",
   "metadata": {},
   "source": [
    "Q2. ans\n",
    "\n",
    "There are 2 types of Statics data one is Descriptive and inferential : descriptive is the way where we organize and summarize data in descripective we measure central tendency and dispersion i.e mean , mode , median , std, varience and in inferential we use sample data set and give conclusion wrt to population data It uses probability theory and sampling techniques to generalize findings from a sample to a larger population \n"
   ]
  },
  {
   "cell_type": "code",
   "execution_count": null,
   "id": "16696d65-5839-41c6-8c67-fbcb4c843b19",
   "metadata": {},
   "outputs": [],
   "source": []
  },
  {
   "cell_type": "markdown",
   "id": "c32850c3-97be-40ef-af1c-9996a6f9d256",
   "metadata": {},
   "source": [
    "Q3. ans\n",
    "\n",
    "there are two types of data one is quantitaive and qualitative. The subgroups are \n",
    "\n",
    "Nominal Data:\n",
    "Nominal data represents categories or labels that do not have a natural order or numerical value associated with them. It is qualitative in nature and is often represented by names, labels, or codes. Examples of nominal data include:\n",
    "Colors of cars (e.g., red, blue, green)\n",
    "Marital status (e.g., single, married, divorced)\n",
    "Types of animals (e.g., cat, dog, bird)\n",
    "\n",
    "Ordinal Data:\n",
    "Ordinal data represents categories that have a natural order or ranking associated with them but do not have a consistent numerical difference between categories. It is qualitative, Examples of ordinal data include:\n",
    "Educational levels (e.g., elementary, high school, bachelor's, master's)\n",
    "Rating scales (e.g., poor, fair, good, excellent)\n",
    "\n",
    "Interval Data:\n",
    "Interval data represents numerical data where the difference between values is meaningful and consistent. It does not have a natural zero point and can include both positive and negative values. Examples of interval data include:\n",
    "Temperature measured in Celsius or Fahrenheit\n",
    "Years (e.g., 1990, 2005, 2021)\n",
    "IQ scores (e.g., 100, 120, 140)\n",
    "\n",
    "Ratio Data:\n",
    "Ratio data is similar to interval data, but it has a natural zero point and allows for meaningful ratios between values. It represents numerical data with a clear definition of zero. Examples of ratio data include:\n",
    "Time durations (e.g., seconds, minutes)\n",
    "Income and expenses (e.g., $500, $2500, $10000)\n",
    "\n"
   ]
  },
  {
   "cell_type": "code",
   "execution_count": null,
   "id": "af0c5c42-6ed4-4db2-b120-e7f015704ecd",
   "metadata": {},
   "outputs": [],
   "source": []
  },
  {
   "cell_type": "markdown",
   "id": "006c2b6e-884d-433e-88ab-f8a47dd42e97",
   "metadata": {},
   "source": [
    "Q4. ans\n",
    "\n",
    "\n",
    "Grading in exam: A+, A, B+, B, C+, C, D, E is a example of qualitative data type\n",
    "\n",
    "Colour of mangoes: yellow, green, orange, red is a example of qualitative data type\n",
    "\n",
    "Height data of a class: [178.9, 179, 179.5, 176, 177.2, 178.3, 175.8,...] is a example of quantitative data type\n",
    "\n",
    "Number of mangoes exported by a farm: [500, 600, 478, 672, ...] is a example of quantitative data type"
   ]
  },
  {
   "cell_type": "code",
   "execution_count": null,
   "id": "515735c1-68b3-4143-9242-48ef4ff042c7",
   "metadata": {},
   "outputs": [],
   "source": []
  },
  {
   "cell_type": "markdown",
   "id": "eaec2c75-a35c-4fa2-adb0-5c9e4e83b279",
   "metadata": {},
   "source": [
    "Q5.) ans\n",
    "\n",
    "Nominal Level:\n",
    "At the nominal level, variables are categorized into distinct groups or categories, and the data are qualitative in nature. The categories do not have an inherent order or numerical value associated with them. Examples of variables at the nominal level are:\n",
    "Eye color (e.g., blue, brown, green)\n",
    "Country of birth (e.g., USA, Canada, Germany)\n",
    "Blood type (e.g., A, B, AB, O)\n",
    "\n",
    "Ordinal Level:\n",
    "At the ordinal level, variables have categories that can be ranked or ordered, but the differences between the categories may not be uniform or measurable. The data are qualitative. Examples of variables at the ordinal level are:\n",
    "Educational attainment (e.g., high school, bachelor's degree, master's degree)\n",
    "Socioeconomic status (e.g., low, middle, high)\n",
    "\n",
    "Interval Level:\n",
    "At the interval level, variables have categories with consistent and measurable differences between values, but there is no true zero point. The data are quantitative, and arithmetic operations such as addition and subtraction can be applied. Examples of variables at the interval level are:\n",
    "Temperature measured in Celsius or Fahrenheit\n",
    "Calendar years (e.g., 1990, 2005, 2021)\n",
    "\n",
    "Ratio Level:\n",
    "At the ratio level, variables have categories with consistent and measurable differences between values, and there is a true zero point that represents the absence of the attribute being measured. The data are quantitative, and all arithmetic operations (addition, subtraction, multiplication, division) can be performed. Examples of variables at the ratio level are:\n",
    "Time durations (e.g., seconds, minutes)"
   ]
  },
  {
   "cell_type": "code",
   "execution_count": null,
   "id": "82e826fb-6fdf-452f-ab71-0d4046d80f72",
   "metadata": {},
   "outputs": [],
   "source": []
  },
  {
   "cell_type": "markdown",
   "id": "1045ed31-72f0-4b5f-9c52-8eb35b3547bc",
   "metadata": {},
   "source": [
    "Q6.) ans\n",
    "\n",
    "Its is necessary to undestand the type of data and the order of the data and sequence to make any conclusion form data. if we dont analyze the type and order of data before analyzing it then we will not be able to analyze it properly understanding the level of measurement help us to know which  statistical techniques and operations that can be applied to the data.\n",
    "\n",
    "like we have the data of the height of student in school and we have question of what is the averahe height of the student in school, what is the max and min height of student in school then in that its necessary to understand the type of data nd level of measurement to get the result "
   ]
  },
  {
   "cell_type": "code",
   "execution_count": null,
   "id": "eba6a248-e758-43a5-b01f-9ca5ad9b2dae",
   "metadata": {},
   "outputs": [],
   "source": []
  },
  {
   "cell_type": "markdown",
   "id": "c0ad3ebe-e7d8-466c-a07c-71f0cd43b8df",
   "metadata": {},
   "source": [
    "Q7.) ans\n",
    "\n",
    "In nominal data, we can determine if two items are the same or different, but we cannot establish any quantitative relationship between the categories. Arithmetic operations such as calculating means, differences, or ratios are not meaningful for nominal data. while In ordinal data, we can determine the order of the categories, but the differences between the categories may not be quantifiable or equal.\n",
    "While ordinal data allows for ranking, we cannot perform arithmetic operations or determine precise numerical relationships between the categories."
   ]
  },
  {
   "cell_type": "code",
   "execution_count": null,
   "id": "ebce4e12-79c6-4f4d-8bf8-079b68a741e7",
   "metadata": {},
   "outputs": [],
   "source": []
  },
  {
   "cell_type": "markdown",
   "id": "05df29ad-d3eb-467c-a195-5959c44ccfc9",
   "metadata": {},
   "source": [
    "Q8.) ans\n",
    "\n",
    "A box plot, also known as a box-and-whisker plot, can be used to display data in terms of range"
   ]
  },
  {
   "cell_type": "code",
   "execution_count": null,
   "id": "c33e3174-84a7-4716-b5d7-4ba7469e41c7",
   "metadata": {},
   "outputs": [],
   "source": []
  },
  {
   "cell_type": "markdown",
   "id": "1308476a-5de1-409b-8bf5-9b01f7a01171",
   "metadata": {},
   "source": [
    "Q9.) ans\n",
    "Descriptive statistics involve summarizing and describing the main features or characteristics of a dataset. It aims to provide a clear and concise summary of the data through measures such as central tendency, variability, and graphical representations. Example: Mean, Median, and Mode\n",
    "Suppose you have a dataset consisting of the ages of 100 individuals in a sample. Descriptive statistics can be used to calculate the mean, median, and mode of the ages. The mean represents the average age of the sample, the median represents the middle age value, and the mode represents the most frequently occurring age.\n",
    "\n",
    "Inferential statistics involves using sample data to make inferences, predictions, or generalizations about a larger population. It aims to draw conclusions beyond the specific data points by analyzing the relationships, differences, or patterns observed in the sample.Example: Hypothesis Testing Suppose a drug company want to test their drug that is that the drug is increasing the immunity or not and here it run test on small group of people and from that sample data set we have to conclude the result for a large population "
   ]
  },
  {
   "cell_type": "code",
   "execution_count": null,
   "id": "3285d774-b54a-49cd-af64-9c8c615fbc90",
   "metadata": {},
   "outputs": [],
   "source": []
  },
  {
   "cell_type": "markdown",
   "id": "65d85bfb-7cbd-4a27-9719-3e2c91de4beb",
   "metadata": {},
   "source": [
    "Q10.) ans\n",
    "\n",
    "Measures of Central Tendency include\n",
    "\n",
    "Mean: The mean is the average of a dataset calculated by summing all the values and dividing by the total number of values. It represents the typical or average value in a dataset.\n",
    "\n",
    "Median: The median is the middle value in a dataset when the values are arranged in ascending or descending order. If there is an even number of values, the median is the average of the two middle values.\n",
    "\n",
    "Mode: The mode is the value(s) that occur most frequently in a dataset. It represents the most common or popular value(s).\n",
    "\n",
    "\n",
    "Measures of Variability include  \n",
    "\n",
    "Range: The range is the difference between the maximum and minimum values in a dataset. It provides a simple measure of the spread of the data.\n",
    "\n",
    "Variance: Variance measures the average squared deviation of each data point from the mean. It quantifies the dispersion or spread of the data. A higher variance indicates more variability in the data.\n",
    "\n",
    "Standard Deviation: The standard deviation is the square root of the variance. It provides a measure of dispersion that is in the original units of the data, making it easier to interpret compared to variance. Like variance, a higher standard deviation indicates greater variability in the data.\n",
    "\n",
    "\n",
    "Central tendency measures (mean, median, mode) give an indication of the typical or central value in a dataset. The mean is often used when the data is approximately normally distributed and not heavily influenced by outliers. while Variability measures (range, variance, standard deviation) provide insights into the spread or dispersion of the data"
   ]
  },
  {
   "cell_type": "code",
   "execution_count": null,
   "id": "5e09af85-69e9-4efc-a59f-0f75212deccc",
   "metadata": {},
   "outputs": [],
   "source": []
  }
 ],
 "metadata": {
  "kernelspec": {
   "display_name": "Python 3 (ipykernel)",
   "language": "python",
   "name": "python3"
  },
  "language_info": {
   "codemirror_mode": {
    "name": "ipython",
    "version": 3
   },
   "file_extension": ".py",
   "mimetype": "text/x-python",
   "name": "python",
   "nbconvert_exporter": "python",
   "pygments_lexer": "ipython3",
   "version": "3.10.8"
  }
 },
 "nbformat": 4,
 "nbformat_minor": 5
}
